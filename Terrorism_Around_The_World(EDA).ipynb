{
  "cells": [
    {
      "metadata": {
        "_uuid": "8f2839f25d086af736a60e9eeb907d3b93b6e0e5",
        "_cell_guid": "b1076dfc-b9ad-4769-8c92-a6c4dae69d19",
        "trusted": true
      },
      "cell_type": "code",
      "source": "import pandas as pd\nimport numpy as np\n\nimport matplotlib.pyplot as plt\n%matplotlib inline\nimport seaborn as sns\nimport plotly.offline as py\nfrom plotly import graph_objs as go\nimport folium\npy.init_notebook_mode(False)\n\nimport os",
      "execution_count": null,
      "outputs": []
    },
    {
      "metadata": {
        "trusted": true,
        "_uuid": "5999db51521ba815bf13afc930588731ff66cd58"
      },
      "cell_type": "code",
      "source": "input_path = '../input/gtd/globalterrorismdb_0718dist.csv'\n\ndata = pd.read_csv(input_path, encoding = 'ISO-8859-1', low_memory = False)\ndata.head()",
      "execution_count": null,
      "outputs": []
    },
    {
      "metadata": {
        "_cell_guid": "79c7e3d0-c299-4dcb-8224-4455121ee9b0",
        "_uuid": "d629ff2d2480ee46fbb7e2d37f6b5fab8052498a",
        "trusted": true
      },
      "cell_type": "code",
      "source": "uniques = data.nunique()\nmissing = data.isnull().sum()\ntrace = go.Scatter(\n    x = uniques.index,\n    y = uniques.values / data.shape[0] * 100,\n    mode = 'markers',\n    name = 'Unique %',\n    marker = dict(\n        #size = uniques.values / data.shape[0] * 100,\n        sizemode = 'area',\n        color = np.random.randn(len(uniques))\n    )\n)\n\ntrace1 = go.Scatter(\n    x = missing.index,\n    y = missing.values / data.shape[0] * 100,\n    mode = 'markers',\n    name = 'Missing %',\n    marker = dict(\n        #size = missing.values / data.shape[0] * 100,\n        sizemode = 'area',\n        color = np.random.randn(len(missing)),\n        opacity = 0.5\n    )\n)\n\nlayout = go.Layout(\n    title = 'Distinct Feature Information',\n    xaxis = dict(\n        title = 'Feature Names'\n    ),\n    yaxis = dict(\n        title = 'Percentage of Values'\n    )\n)\n\nfig = go.Figure(data = [trace, trace1], layout = layout)\npy.iplot(fig)",
      "execution_count": null,
      "outputs": []
    },
    {
      "metadata": {
        "trusted": true,
        "_uuid": "f0279e01caff94610efe96b41f2cb395e17edce0"
      },
      "cell_type": "code",
      "source": "data['Casualities'] = data['nkill'].fillna(0) + data['nwound'].fillna(0)\ncountries_affected = data.groupby(['country_txt'])['Casualities'].sum().sort_values(ascending = False)\n\ncolors = ['rgb(100, 30, 22)', 'rgb(120, 40, 31)', 'rgb(123, 36, 28)','rgb(148, 49, 38)', 'rgb(146, 43, 33)', 'rgb(176, 58, 46)',\n          'rgb(169, 50, 38)', 'rgb(203, 67, 53)', 'rgb(192, 57, 43)', 'rgb(231, 76, 60)', 'rgb(205, 97, 85)', 'rgb(236, 112, 99)',\n          'rgb(217, 136, 128)', 'rgb(241, 148, 138)', 'rgb(230, 176, 170)']\n\ntrace = go.Bar(\n    x = countries_affected.index[:15],\n    y = countries_affected.values[:15],\n    marker = dict(\n        color = colors,\n        line = dict(\n            color = 'rgb(8,48,107)',\n            width = 1.5,\n        )\n    )\n)\n\nlayout = go.Layout(\n    title = 'Country Devastation',\n    xaxis = dict(\n        title = 'Country'\n    ),\n    yaxis = dict(\n        title = 'Casuality'\n    )\n)\n\nfig = go.Figure(data = [trace], layout = layout)\n\npy.iplot(fig)",
      "execution_count": null,
      "outputs": []
    },
    {
      "metadata": {
        "_uuid": "9ffc46715d178f6f188148294c07027e4ccd19e6"
      },
      "cell_type": "markdown",
      "source": "* From the plot above, We can see that **Iraq** has the most number of **`casualities`** going over 200k. \n* It is the only *Country* where the casuality toll has crossed 200k followed by **Afghanistan** at 83k and so on.."
    },
    {
      "metadata": {
        "trusted": true,
        "_uuid": "de4a4a1d55d42951e2ac6566677118e33be6222e"
      },
      "cell_type": "code",
      "source": "temp = data.groupby(['iyear','country_txt'])['success'].sum()\ntemp = temp.loc[temp.groupby('iyear').idxmax()].reset_index()\ntraces = []\ntemp = temp.groupby('country_txt')\nfor group in temp:\n    g = temp.get_group(group[0])\n    trace = go.Scatter(\n        x = g['iyear'],\n        y = g['success'],\n        mode = 'markers+lines',\n        marker = dict(\n            sizemode = 'area',\n            size = g['success'] * 0.3\n        ),\n        name = g['country_txt'].values[0]\n    )\n    traces.append(trace)\n\nlayout = go.Layout(\n    title = 'Most Attacks Operated by Country',\n    xaxis = dict(\n        title = 'Year'\n    ),\n    yaxis = dict(\n        title = '# of Successful Attacks'\n    )\n)\n\nfig = go.Figure(data = traces, layout = layout)\n\npy.iplot(fig)",
      "execution_count": null,
      "outputs": []
    },
    {
      "metadata": {
        "_uuid": "971bb12fcd74683b8a8933cb34eee0d01b774471"
      },
      "cell_type": "markdown",
      "source": "* The plot above shows the how many **successful** attacks have been done on a country over the years. The larger the variation in size of the bubble the more number of **successful** attacks operated on that Country. *The lines connected to the bubbles shows they are of same group.*\n* As we can **Iraq** has been attacked more frequently infact the terrorist activity has only been rising from *2004 to 2014*."
    },
    {
      "metadata": {
        "trusted": true,
        "_uuid": "cbdc8edf37408eba670b08f62d8a0fc870a6f96e"
      },
      "cell_type": "code",
      "source": "yearly_killed = data.groupby(['iyear'])['nkill'].sum().reset_index()\nyearly_wounded = data.groupby(['iyear'])['nwound'].sum().reset_index()\n\ntrace = go.Bar(\n    x = yearly_killed['iyear'],\n    y = yearly_killed['nkill'],\n    name = 'Killed',\n    marker = dict(\n        color = 'red'\n    )\n)\n\ntrace1 = go.Bar(\n    x = yearly_wounded['iyear'],\n    y = yearly_wounded['nwound'],\n    name = 'Wounded',\n    marker = dict(\n        color = 'red',\n        opacity = 0.5\n    )\n    \n)\n\nlayout = go.Layout(\n    title = 'Yearly Casualities',\n    xaxis = dict(\n        title = 'Year'\n    ),\n    barmode = 'stack'\n)\n\nfig = go.Figure(data = [trace, trace1], layout = layout)\npy.iplot(fig)",
      "execution_count": null,
      "outputs": []
    },
    {
      "metadata": {
        "trusted": true,
        "_uuid": "96fa8d7458a7d00a7ee0cab1aac25300b9596e7c"
      },
      "cell_type": "code",
      "source": "months = {'1': 'Jan', '2': 'Feb', '3': 'March', '4': 'April', '5': 'May', '6': 'June', '7': 'July', '8': 'Aug', '9': 'Sept', '10': 'Oct', \n          '11': 'Nov', '12': 'Dec'}\n\nmonthly_deaths = data.groupby(['imonth'])['nkill'].sum()\n\n#traces = []\n#for year in monthly_deaths.index.levels[0]:\ntrace = go.Scatter(\n    x = [months[str(i)] for i in monthly_deaths.index.values[1:]],\n    y = monthly_deaths.values[1:],\n    #name = year,\n    line = dict(\n        color = 'rgb(23, 32, 42)'\n    ),\n    fill = 'toself',\n    fillcolor = 'red',\n    opacity = 0.6\n)\n\nlayout = go.Layout(\n    title = 'Killings Per Month',\n    xaxis = dict(\n        title = 'Month'\n    ),\n    yaxis = dict(\n        title = 'Kill Count'\n    )\n)\n\nfig = go.Figure(data = [trace], layout = layout)\n    \npy.iplot(fig)",
      "execution_count": null,
      "outputs": []
    },
    {
      "metadata": {
        "_uuid": "6a6c04618ec1f4f842cf79158d17fa8027adb0a5"
      },
      "cell_type": "markdown",
      "source": "From the plot above, We can see how the activity has has been from *1970 to 2017* on a monthly basis."
    },
    {
      "metadata": {
        "trusted": true,
        "_uuid": "00ab600608356deee65dbe36c4524b0988e16c6a"
      },
      "cell_type": "code",
      "source": "group_names = data['gname'].value_counts()[1:11]\n\ntrace = go.Bar(\n    x = group_names.index,\n    y = group_names.values,\n    \n    marker = dict(\n        color = colors[:10],\n        line = dict(\n            color='rgb(8,48,107)',\n                    width = 1.5\n        ),\n    )\n)\n\nlayout = go.Layout(\n    title = 'Notorious Terrorist Groups',\n    xaxis = dict(\n        title = 'Terrorist Group'\n    ),\n    yaxis = dict(\n        title = '# Attacks'\n    )\n)\n\nfig = go.Figure(data = [trace], layout = layout)\n\npy.iplot(fig)",
      "execution_count": null,
      "outputs": []
    },
    {
      "metadata": {
        "_uuid": "f629afc38839266db2e0eda954d446ab2c0543d2"
      },
      "cell_type": "markdown",
      "source": ""
    },
    {
      "metadata": {
        "trusted": true,
        "_uuid": "7c53ffa397efcb9ccc45b84f2a39475e9689b3aa"
      },
      "cell_type": "code",
      "source": "def get_Fre(data, col_name):\n    data = data.groupby(['gname', col_name])[col_name].count().unstack().T\n    x_axis = data.columns\n    y_axis = np.max(data, axis = 0)\n    text = data.idxmax().values\n    return x_axis, y_axis, text\n\ndef plot(xaxis, yaxis, text):\n    u = np.unique(text)\n    color_num = np.random.randn(len(u)) * 0.2\n    colors = []\n    for t1 in text:\n        for index, t2 in enumerate(u):\n            if t1 == t2:\n                colors.append(color_num[index])\n\n    trace = go.Bar(\n        x = xaxis,\n        y = yaxis,\n        text = text,\n        textposition = 'outside',\n        hoverinfo = 'text + x',\n        marker = dict(\n            color = colors,\n            line = dict(\n                color = 'rgb(8,48,107)',\n                width = 1.5,\n            )\n        ),\n    )\n    \n    return trace\n\nnotorious_groups = data[data['gname'].isin(group_names.index)][['gname', 'attacktype1_txt', 'targtype1_txt', 'weaptype1_txt']]\n\ntrace1 = plot(*get_Fre(notorious_groups, 'targtype1_txt'))\ntrace2 = plot(*get_Fre(notorious_groups, 'attacktype1_txt'))\ntrace3 = plot(*get_Fre(notorious_groups, 'weaptype1_txt'))",
      "execution_count": null,
      "outputs": []
    },
    {
      "metadata": {
        "trusted": true,
        "_uuid": "8d3a1a07c33b777f808d1bfe8e3d0c888d011ad6"
      },
      "cell_type": "code",
      "source": "from plotly import tools\nfig = tools.make_subplots(rows = 3, cols = 1, shared_xaxes = True, print_grid = False, subplot_titles = ('Terrorist Group vs. Terrorist Target',\n                                                                                                         'Terrorist Group vs. Attack Type',\n                                                                                                         'Terrorist Group vs. Weapon Type'))\n\nfig.append_trace(trace1, 1, 1)\nfig.append_trace(trace2, 2, 1)\nfig.append_trace(trace3, 3, 1)\n\nfig['layout'].update(height = 600, width = 1000, showlegend = False)\npy.iplot(fig)",
      "execution_count": null,
      "outputs": []
    },
    {
      "metadata": {
        "_uuid": "7dbc66651ac80a104c21affb718e412dc9eb81c9"
      },
      "cell_type": "markdown",
      "source": "* The subplots above shows given a Terrorist Group what is their preferred choice of *Target*, *Attacking* method and *Weapon*"
    },
    {
      "metadata": {
        "trusted": true,
        "_uuid": "6d7f3ad5f3210d0c66c0e2dcd1716fda72d74e17"
      },
      "cell_type": "code",
      "source": "casualities = data.groupby('country_txt')['Casualities'].sum().reset_index().sort_values(by = 'Casualities', ascending = False)\n\nm = folium.Map(\n    location = [12, 12],\n    zoom_start = 2,\n    tiles = 'CartoDB positron'\n)\n\nm.choropleth(\n    geo_data = os.path.join('../input/worldcountries', 'world-countries.json'),\n    data = casualities,\n    columns = casualities.columns,\n    key_on = 'feature.properties.name',\n    fill_color = 'YlOrRd',\n    line_opacity = 0.5,\n    fill_opacity = 0.8,\n    reset = True,\n    smooth_factor = 1.0\n    \n)\nm",
      "execution_count": null,
      "outputs": []
    }
  ],
  "metadata": {
    "kernelspec": {
      "display_name": "Python 3",
      "language": "python",
      "name": "python3"
    },
    "language_info": {
      "name": "python",
      "version": "3.6.6",
      "mimetype": "text/x-python",
      "codemirror_mode": {
        "name": "ipython",
        "version": 3
      },
      "pygments_lexer": "ipython3",
      "nbconvert_exporter": "python",
      "file_extension": ".py"
    }
  },
  "nbformat": 4,
  "nbformat_minor": 1
}